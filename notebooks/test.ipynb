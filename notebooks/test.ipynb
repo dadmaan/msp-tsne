{
 "cells": [
  {
   "cell_type": "code",
   "execution_count": null,
   "id": "32d4b406-8e7f-4990-b2d9-574b41eea22a",
   "metadata": {},
   "outputs": [],
   "source": [
    "from msp_tsne import MultiscaleParametricTSNE\n",
    "import pandas as pd"
   ]
  },
  {
   "cell_type": "code",
   "execution_count": null,
   "id": "6ffaafa4-1c84-4760-aedc-0a7e21291314",
   "metadata": {},
   "outputs": [],
   "source": [
    "df = pd.read_json('/home/jovyan/work/data/features.json')"
   ]
  },
  {
   "cell_type": "code",
   "execution_count": null,
   "id": "6d92bef4-bf4c-4a6a-835b-d149b5361cd4",
   "metadata": {},
   "outputs": [],
   "source": [
    "df.head(5)"
   ]
  },
  {
   "cell_type": "code",
   "execution_count": null,
   "id": "3505d804-eed2-4319-8f10-b1a47201b7a1",
   "metadata": {},
   "outputs": [],
   "source": [
    "X = df[['length_sec', 'pitch_range_min_freq', 'pitch_range_min_note', 'pitch_range_max_freq']].values"
   ]
  },
  {
   "cell_type": "code",
   "execution_count": null,
   "id": "5e4e98f6-6c0f-4512-8a8a-12a05e3d1271",
   "metadata": {},
   "outputs": [],
   "source": [
    "transformer = MultiscaleParametricTSNE()\n",
    "\n",
    "# suppose you have the dataset X\n",
    "X_new = transformer.fit_transform(X)\n",
    "\n",
    "# transform new dataset X2 with pre-trained model\n",
    "X2_new = transformer.transform(X2)"
   ]
  },
  {
   "cell_type": "code",
   "execution_count": null,
   "id": "80c31f11-bf90-4c95-9d6c-f05eb924a723",
   "metadata": {},
   "outputs": [],
   "source": []
  },
  {
   "cell_type": "code",
   "execution_count": null,
   "id": "54cb8551-0bbc-47d9-8be6-6fd8aac98f03",
   "metadata": {},
   "outputs": [],
   "source": []
  }
 ],
 "metadata": {
  "kernelspec": {
   "display_name": "Python 3 (ipykernel)",
   "language": "python",
   "name": "python3"
  },
  "language_info": {
   "codemirror_mode": {
    "name": "ipython",
    "version": 3
   },
   "file_extension": ".py",
   "mimetype": "text/x-python",
   "name": "python",
   "nbconvert_exporter": "python",
   "pygments_lexer": "ipython3",
   "version": "3.11.13"
  }
 },
 "nbformat": 4,
 "nbformat_minor": 5
}
